{
 "cells": [
  {
   "cell_type": "code",
   "execution_count": 19,
   "metadata": {},
   "outputs": [
    {
     "name": "stdout",
     "output_type": "stream",
     "text": [
      "1 ['C7', 'C8', 'C12', 'C9', 'C10', 'C11']\n",
      "[]\n",
      "0 ['C', 'C2']\n",
      "[['C', 'C2']]\n",
      "0 ['C', 'C2', 'C14']\n",
      "[['C', 'C2', 'C14']]\n",
      "0 ['C', 'C2', 'C14', 'C3']\n",
      "[['C', 'C2', 'C14', 'C3']]\n",
      "0 ['C', 'C2', 'C14', 'C3', 'C4']\n",
      "[['C', 'C2', 'C14', 'C3', 'C4']]\n",
      "0 ['C', 'C2', 'C14', 'C3', 'C4', 'C13']\n",
      "[['C', 'C2', 'C14', 'C3', 'C4', 'C13']]\n",
      "1 ['C7', 'C8']\n",
      "[['C', 'C2', 'C14', 'C3', 'C4', 'C13'], ['C7', 'C8']]\n",
      "1 ['C7', 'C8', 'C12']\n",
      "[['C', 'C2', 'C14', 'C3', 'C4', 'C13'], ['C7', 'C8', 'C12']]\n",
      "1 ['C7', 'C8', 'C12', 'C9']\n",
      "[['C', 'C2', 'C14', 'C3', 'C4', 'C13'], ['C7', 'C8', 'C12', 'C9']]\n",
      "1 ['C7', 'C8', 'C12', 'C9', 'C10']\n",
      "[['C', 'C2', 'C14', 'C3', 'C4', 'C13'], ['C7', 'C8', 'C12', 'C9', 'C10']]\n",
      "1 ['C7', 'C8', 'C12', 'C9', 'C10', 'C11']\n",
      "[['C', 'C2', 'C14', 'C3', 'C4', 'C13'], ['C7', 'C8', 'C12', 'C9', 'C10', 'C11']]\n",
      "1 ['C7', 'C8', 'C12', 'C9', 'C10', 'C11']\n",
      "[['C', 'C2', 'C14', 'C3', 'C4', 'C13'], ['C7', 'C8', 'C12', 'C9', 'C10', 'C11']]\n"
     ]
    }
   ],
   "source": [
    "\n",
    "\n",
    "pairs=[['C', 'C2'], ['C', 'C14'], ['C2', 'C3'], ['C3', 'C4'], ['C4', 'C13'], ['C7', 'C8'], ['C7', 'C12'], ['C8', 'C9'], ['C9', 'C10'], ['C10', 'C11'], ['C11', 'C12'], ['C13', 'C14']]\n",
    "\n",
    "# 서로 연결된 원소들을 모아서 각각의 리스트로 나타내기\n",
    "connected_lists = []\n",
    "\n",
    "for pair in pairs:\n",
    "    # pair[0]와 pair[1]이 이미 어느 리스트에 속해있는지 확인\n",
    "    list_index_0 = None\n",
    "    list_index_1 = None\n",
    "    \n",
    "    for i, connected_list in enumerate(connected_lists):\n",
    "        if pair[0] in connected_list:\n",
    "            list_index_0 = i\n",
    "        if pair[1] in connected_list:\n",
    "            list_index_1 = i\n",
    "    print(i,connected_list)\n",
    "    print(connected_lists)\n",
    "            \n",
    "    if list_index_0 is not None and list_index_1 is not None:\n",
    "        # 두 원소가 이미 서로 다른 리스트에 속해 있으면 두 리스트를 합침\n",
    "        if list_index_0 != list_index_1:\n",
    "            connected_lists[list_index_0] += connected_lists[list_index_1]\n",
    "            del connected_lists[list_index_1]\n",
    "    elif list_index_0 is not None:\n",
    "        # 첫 번째 원소가 이미 어느 리스트에 속해 있으면 해당 리스트에 두 번째 원소를 추가\n",
    "        connected_lists[list_index_0].append(pair[1])\n",
    "    elif list_index_1 is not None:\n",
    "        # 두 번째 원소가 이미 어느 리스트에 속해 있으면 해당 리스트에 첫 번째 원소를 추가\n",
    "        connected_lists[list_index_1].append(pair[0])\n",
    "    else:\n",
    "        # 둘 다 어느 리스트에 속해 있지 않으면 새로운 리스트를 생성하여 두 원소를 추가\n",
    "        connected_lists.append([pair[0], pair[1]])\n",
    "\n",
    "#print(connected_lists)         \n",
    "            \n",
    "\n"
   ]
  },
  {
   "cell_type": "code",
   "execution_count": null,
   "metadata": {},
   "outputs": [],
   "source": []
  }
 ],
 "metadata": {
  "kernelspec": {
   "display_name": "RDKit",
   "language": "python",
   "name": "rdkit"
  },
  "language_info": {
   "codemirror_mode": {
    "name": "ipython",
    "version": 3
   },
   "file_extension": ".py",
   "mimetype": "text/x-python",
   "name": "python",
   "nbconvert_exporter": "python",
   "pygments_lexer": "ipython3",
   "version": "3.9.15"
  }
 },
 "nbformat": 4,
 "nbformat_minor": 2
}
