{
 "cells": [
  {
   "cell_type": "code",
   "execution_count": 1,
   "metadata": {},
   "outputs": [],
   "source": [
    "import numpy as np"
   ]
  },
  {
   "cell_type": "markdown",
   "metadata": {},
   "source": [
    "### Vector Cal"
   ]
  },
  {
   "cell_type": "code",
   "execution_count": 2,
   "metadata": {},
   "outputs": [],
   "source": [
    "pointA=np.array([1,2,3])\n",
    "pointB=np.array([4,6,5])\n",
    "pointC=np.array([7,8,9])\n",
    "pointD=np.array([12,14,11])\n",
    "\n",
    "vecAB=pointB-pointA\n",
    "vecBC=pointC-pointB\n",
    "vecCD=pointD-pointC"
   ]
  },
  {
   "cell_type": "markdown",
   "metadata": {},
   "source": [
    "### 법선 벡터 구하기(cross product)"
   ]
  },
  {
   "cell_type": "code",
   "execution_count": 3,
   "metadata": {},
   "outputs": [
    {
     "name": "stdout",
     "output_type": "stream",
     "text": [
      "[12 -6 -6]\n",
      "[-20  14   8]\n"
     ]
    }
   ],
   "source": [
    "#법선벡터 구하기(cross product)\n",
    "n1=np.cross(vecAB,vecBC)\n",
    "n2=np.cross(vecBC,vecCD)\n",
    "\n",
    "print(n1)\n",
    "print(n2)"
   ]
  },
  {
   "cell_type": "markdown",
   "metadata": {},
   "source": [
    "### Cosine Cal"
   ]
  },
  {
   "cell_type": "code",
   "execution_count": 4,
   "metadata": {},
   "outputs": [
    {
     "name": "stdout",
     "output_type": "stream",
     "text": [
      "-0.9852446755537786\n"
     ]
    }
   ],
   "source": [
    "cosine=np.dot(n1,n2)/((np.linalg.norm(n1,2))*(np.linalg.norm(n2,2)))\n",
    "print(cosine)"
   ]
  },
  {
   "cell_type": "markdown",
   "metadata": {},
   "source": [
    "### Theta Cal"
   ]
  },
  {
   "cell_type": "code",
   "execution_count": 5,
   "metadata": {},
   "outputs": [
    {
     "name": "stdout",
     "output_type": "stream",
     "text": [
      "2.969594080888178\n"
     ]
    }
   ],
   "source": [
    "theta=np.arccos(cosine)\n",
    "print(theta)"
   ]
  }
 ],
 "metadata": {
  "kernelspec": {
   "display_name": "RDKit",
   "language": "python",
   "name": "rdkit"
  },
  "language_info": {
   "codemirror_mode": {
    "name": "ipython",
    "version": 3
   },
   "file_extension": ".py",
   "mimetype": "text/x-python",
   "name": "python",
   "nbconvert_exporter": "python",
   "pygments_lexer": "ipython3",
   "version": "3.9.15"
  }
 },
 "nbformat": 4,
 "nbformat_minor": 2
}
