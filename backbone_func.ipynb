{
 "cells": [
  {
   "cell_type": "code",
   "execution_count": 47,
   "metadata": {},
   "outputs": [],
   "source": [
    "import numpy as np"
   ]
  },
  {
   "cell_type": "markdown",
   "metadata": {},
   "source": [
    "### Vector Func"
   ]
  },
  {
   "cell_type": "code",
   "execution_count": 48,
   "metadata": {},
   "outputs": [],
   "source": [
    "def VecFunc(a,b):\n",
    "    pointA=np.array(a)\n",
    "    pointB=np.array(b)\n",
    "    vecAB=pointB-pointA\n",
    "    \n",
    "    return vecAB"
   ]
  },
  {
   "cell_type": "markdown",
   "metadata": {},
   "source": [
    "### 법선벡터 구하기(cross product)"
   ]
  },
  {
   "cell_type": "code",
   "execution_count": 49,
   "metadata": {},
   "outputs": [],
   "source": [
    "def NorVec(c,d):\n",
    "    n1=np.cross(c,d)\n",
    "    return n1"
   ]
  },
  {
   "cell_type": "markdown",
   "metadata": {},
   "source": [
    "### Math Cal"
   ]
  },
  {
   "cell_type": "code",
   "execution_count": 50,
   "metadata": {},
   "outputs": [],
   "source": [
    "def MathCal(n1,n2):\n",
    "    dot=np.dot(n1,n2)\n",
    "    cosine=dot/((np.linalg.norm(n1,2))*(np.linalg.norm(n2,2)))\n",
    "    if cosine<0:\n",
    "        k=-1\n",
    "    else:\n",
    "        k=1\n",
    "    theta=np.rad2deg(np.arccos(cosine))\n",
    "    final=theta*k\n",
    "    return final"
   ]
  },
  {
   "cell_type": "markdown",
   "metadata": {},
   "source": [
    "### File Read"
   ]
  },
  {
   "cell_type": "code",
   "execution_count": 51,
   "metadata": {},
   "outputs": [
    {
     "name": "stdout",
     "output_type": "stream",
     "text": [
      "['26.100  29.253   5.202']\n"
     ]
    }
   ],
   "source": [
    "def parsing_pdb(pdb_file):\n",
    "    with open(pdb_file, 'r') as file:\n",
    "        xyz={}\n",
    "        for line in file:\n",
    "            if line.startswith(\"ATOM\"):\n",
    "                atom_info={\n",
    "                    #'Serial_Num':line[6:11],\n",
    "                    'Atom_Name':line[12:16].strip(),\n",
    "                    #'Alt_location':line[16:17],\n",
    "                    #'Residue_Name':line[17:20],\n",
    "                    'Residue_num':line[22:26].strip(),\n",
    "                    'xyz':line[30:54].strip()\n",
    "                }\n",
    "\n",
    "                if atom_info['Atom_Name'] not in xyz:\n",
    "                    xyz[atom_info['Atom_Name']]={}\n",
    "                if atom_info['Residue_num'] not in xyz[atom_info['Atom_Name']]:\n",
    "                    xyz[atom_info['Atom_Name']][atom_info['Residue_num']]=[]\n",
    "                    \n",
    "                    \n",
    "                xyz[atom_info['Atom_Name']][atom_info['Residue_num']].append(atom_info['xyz'])\n",
    "                \n",
    "    return xyz\n",
    "\n",
    "pdb_file='/Users/kistintern6/ProteinAnalysis/Day1/PDBex.pdb'\n",
    "print(parsing_pdb(pdb_file)['C']['2'])\n",
    "parsing_dict=parsing_pdb(pdb_file)\n",
    "\n"
   ]
  },
  {
   "cell_type": "markdown",
   "metadata": {},
   "source": [
    "### Change into Array"
   ]
  },
  {
   "cell_type": "code",
   "execution_count": 52,
   "metadata": {},
   "outputs": [],
   "source": [
    "def ListtoArray(parsing_dict):\n",
    "    array=[]\n",
    "    new_list=parsing_dict[0].split()\n",
    "    for i in new_list:\n",
    "        a=float(i)\n",
    "        array.append(a)\n",
    "    return array"
   ]
  },
  {
   "cell_type": "markdown",
   "metadata": {},
   "source": [
    "### Excute"
   ]
  },
  {
   "cell_type": "code",
   "execution_count": 53,
   "metadata": {},
   "outputs": [
    {
     "name": "stdout",
     "output_type": "stream",
     "text": [
      "-91.02018604276657\n"
     ]
    }
   ],
   "source": [
    "dot1=parsing_dict['C']['1']\n",
    "dot2=parsing_dict['N']['2']\n",
    "dot3=parsing_dict['CA']['2']\n",
    "dot4=parsing_dict['C']['2']\n",
    "\n",
    "dot1A=ListtoArray(dot1)\n",
    "dot2A=ListtoArray(dot2)\n",
    "dot3A=ListtoArray(dot3)\n",
    "dot4A=ListtoArray(dot4)\n",
    "\n",
    "VecAB=VecFunc(dot1A,dot2A)\n",
    "VecAC=VecFunc(dot1A,dot3A)\n",
    "VecDC=VecFunc(dot4A,dot3A)\n",
    "VecDB=VecFunc(dot4A,dot2A)\n",
    "\n",
    "norm1=NorVec(VecAB,VecAC)\n",
    "norm2=NorVec(VecDB,VecDC)\n",
    "\n",
    "final=MathCal(norm1,norm2)\n",
    "print(final)\n",
    "\n"
   ]
  },
  {
   "cell_type": "code",
   "execution_count": null,
   "metadata": {},
   "outputs": [],
   "source": []
  }
 ],
 "metadata": {
  "kernelspec": {
   "display_name": "RDKit",
   "language": "python",
   "name": "rdkit"
  },
  "language_info": {
   "codemirror_mode": {
    "name": "ipython",
    "version": 3
   },
   "file_extension": ".py",
   "mimetype": "text/x-python",
   "name": "python",
   "nbconvert_exporter": "python",
   "pygments_lexer": "ipython3",
   "version": "3.9.15"
  }
 },
 "nbformat": 4,
 "nbformat_minor": 2
}
